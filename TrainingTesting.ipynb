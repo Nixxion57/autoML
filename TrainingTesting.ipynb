{
 "cells": [
  {
   "cell_type": "markdown",
   "source": [
    "First we import all necessary libraries. We'll be using the already processed dataset from the previous notebook."
   ],
   "metadata": {
    "collapsed": false
   },
   "id": "8136a1fc635c1e9b"
  },
  {
   "cell_type": "code",
   "execution_count": 19,
   "id": "initial_id",
   "metadata": {
    "collapsed": true,
    "ExecuteTime": {
     "end_time": "2024-01-04T17:16:35.261038600Z",
     "start_time": "2024-01-04T17:16:35.018437700Z"
    }
   },
   "outputs": [],
   "source": [
    "import pandas as pd\n",
    "from sklearn.model_selection import train_test_split\n",
    "from sklearn.metrics import r2_score\n",
    "from sklearn.linear_model import LinearRegression\n",
    "from sklearn.feature_selection import SelectKBest, f_regression\n",
    "from sklearn.metrics import mean_squared_error\n",
    "\n",
    "processed_data = pd.read_csv('processed_dataset.csv')\n",
    "\n",
    "processed_data.head()\n",
    "copy = processed_data.copy()"
   ]
  },
  {
   "cell_type": "markdown",
   "source": [
    "# Feature Selection\n",
    "We will use the SelectKBest class from scikit-learn to select the best features from the dataset. The SelectKBest class takes a score function as a parameter and returns the best features from the dataset based on the score function. We will use the f_regression score function to calculate the correlation between the input features and the target variable. The f_regression score function returns the F-value and p-value for each input feature. The F-value is the correlation between the input feature and the target variable. The p-value is the probability that the correlation between the input feature and the target variable is caused by chance. Since we are only interested in the best feature to use in order to predict the target variable we have displayed only the best features."
   ],
   "metadata": {
    "collapsed": false
   },
   "id": "2f1aa8e519ca5936"
  },
  {
   "cell_type": "code",
   "execution_count": 20,
   "outputs": [
    {
     "name": "stdout",
     "output_type": "stream",
     "text": [
      "Selected Features: ['loudness', 'instrumentalness', 'valence', 'time_signature']\n"
     ]
    }
   ],
   "source": [
    "# Feature Selection\n",
    "# Exclude the target variable from input features\n",
    "X = copy.drop(columns=['danceability'])\n",
    "y = copy['danceability']\n",
    "\n",
    "# Split the data into training and testing sets\n",
    "X_train, X_test, y_train, y_test = train_test_split(X, y, test_size=0.2)\n",
    "\n",
    "# Feature Selection\n",
    "selector = SelectKBest(score_func=f_regression, k=4)\n",
    "X_train_selected = selector.fit_transform(X_train, y_train)\n",
    "X_test_selected = selector.transform(X_test)\n",
    "best_features = selector.get_support(indices=True)\n",
    "\n",
    "# Display the selected feature names\n",
    "selected_feature_names = X.columns[best_features].tolist()\n",
    "print(\"Selected Features:\", selected_feature_names)"
   ],
   "metadata": {
    "collapsed": false,
    "ExecuteTime": {
     "end_time": "2024-01-04T17:16:35.338716600Z",
     "start_time": "2024-01-04T17:16:35.266927800Z"
    }
   },
   "id": "6dcf28b3aba212e3"
  },
  {
   "cell_type": "markdown",
   "source": [
    "# Split the data into training and testing sets"
   ],
   "metadata": {
    "collapsed": false
   },
   "id": "97557a7213b2ecdb"
  },
  {
   "cell_type": "code",
   "execution_count": 21,
   "outputs": [],
   "source": [
    "X = processed_data[selected_feature_names]\n",
    "y = processed_data['danceability']\n",
    "\n",
    "X_train, X_test, y_train, y_test = train_test_split(X, y, test_size=0.2, random_state=101)\n"
   ],
   "metadata": {
    "collapsed": false,
    "ExecuteTime": {
     "end_time": "2024-01-04T17:16:35.398702500Z",
     "start_time": "2024-01-04T17:16:35.343983400Z"
    }
   },
   "id": "5c47d561eee506af"
  },
  {
   "cell_type": "markdown",
   "source": [
    "# Model Selection and training\n",
    "We have opted for the Linear regression model because of its advantages over other regression models such as the Lasso and Ridge regression models. The Linear regression model is simple and easy to implement and also less prone to overfitting. We will train the model using the training data and then use the trained model to make predictions on the test data. We will then calculate the R-squared and mean squared error values to evaluate the performance of the model."
   ],
   "metadata": {
    "collapsed": false
   },
   "id": "e8e9b8a0231a0646"
  },
  {
   "cell_type": "code",
   "execution_count": 22,
   "outputs": [
    {
     "name": "stdout",
     "output_type": "stream",
     "text": [
      "R-squared: 0.26\n",
      "Mean Squared Error: 0.02\n"
     ]
    }
   ],
   "source": [
    "model_lnn = LinearRegression()\n",
    "model_lnn.fit(X_train, y_train)\n",
    "\n",
    "predictions_lnn = model_lnn.predict(X_test)\n",
    "\n",
    "# joblib.dump(model_lnn, 'model_lnn.pkl')\n",
    "\n",
    "mse = mean_squared_error(y_test, predictions_lnn)\n",
    "r_squared = r2_score(y_test, predictions_lnn)\n",
    "\n",
    "print(f'R-squared: {r_squared:.2f}')\n",
    "print(f'Mean Squared Error: {mse:.2f}')"
   ],
   "metadata": {
    "collapsed": false,
    "ExecuteTime": {
     "end_time": "2024-01-04T17:16:35.418020900Z",
     "start_time": "2024-01-04T17:16:35.373446Z"
    }
   },
   "id": "b185e89c8d90e4c1"
  },
  {
   "cell_type": "markdown",
   "source": [
    "# Conclusion\n",
    "The R-squared value of 0.26 indicates that the model is able to explain 26% of the variance in the target variable. The mean squared error value of 0.02 indicates that the model is able to predict the target variable with an error of 0.02. Overall the model is performing well, but we can improve it by using more data, by using other regression models such as the Lasso and Ridge regression models or in combination with them as an Ensemble."
   ],
   "metadata": {
    "collapsed": false
   },
   "id": "2088a7a58ce743e3"
  }
 ],
 "metadata": {
  "kernelspec": {
   "display_name": "Python 3",
   "language": "python",
   "name": "python3"
  },
  "language_info": {
   "codemirror_mode": {
    "name": "ipython",
    "version": 2
   },
   "file_extension": ".py",
   "mimetype": "text/x-python",
   "name": "python",
   "nbconvert_exporter": "python",
   "pygments_lexer": "ipython2",
   "version": "2.7.6"
  }
 },
 "nbformat": 4,
 "nbformat_minor": 5
}
