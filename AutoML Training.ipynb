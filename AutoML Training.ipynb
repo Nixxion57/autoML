{
 "cells": [
  {
   "cell_type": "markdown",
   "source": [
    "!!!!!!! before running this project you need to enable vortexAI and BigQuery on google cloud, also edit the project ID to your liking\n",
    "you also need to manually install package pyarrow with:  pip install google-cloud-aiplatform[datasets] (although it should be included in requirements.txt)"
   ],
   "metadata": {
    "collapsed": false
   },
   "id": "5f050125169c2bd4"
  },
  {
   "cell_type": "code",
   "execution_count": 1,
   "outputs": [],
   "source": [
    "from google.cloud import aiplatform\n",
    "from vertexai import preview"
   ],
   "metadata": {
    "collapsed": false,
    "ExecuteTime": {
     "end_time": "2023-12-21T15:06:28.239822400Z",
     "start_time": "2023-12-21T15:06:26.835635200Z"
    }
   },
   "id": "e6eb1395dc47b36c"
  },
  {
   "cell_type": "markdown",
   "source": [
    "First we define our project ID and our region"
   ],
   "metadata": {
    "collapsed": false
   },
   "id": "9141019242e0ee62"
  },
  {
   "cell_type": "code",
   "execution_count": 2,
   "outputs": [
    {
     "name": "stderr",
     "output_type": "stream",
     "text": [
      "Updated property [core/project].\n"
     ]
    }
   ],
   "source": [
    "PROJECT_ID = \"automl-408813\"  # @param {type:\"string\"}\n",
    "\n",
    "# Set the project ID\n",
    "! gcloud config set project {PROJECT_ID}\n",
    "REGION = \"europe-west1\"  # @param {type: \"string\"}"
   ],
   "metadata": {
    "collapsed": false,
    "ExecuteTime": {
     "end_time": "2023-12-21T15:06:29.816337800Z",
     "start_time": "2023-12-21T15:06:28.239822400Z"
    }
   },
   "id": "33dab64e623518a3"
  },
  {
   "cell_type": "markdown",
   "source": [
    "Then we log into gcloud so we can start performing our actions"
   ],
   "metadata": {
    "collapsed": false
   },
   "id": "14ef467f4fd5a7e0"
  },
  {
   "cell_type": "code",
   "execution_count": 3,
   "outputs": [
    {
     "name": "stderr",
     "output_type": "stream",
     "text": [
      "Your browser has been opened to visit:\n",
      "\n",
      "    https://accounts.google.com/o/oauth2/auth?response_type=code&client_id=32555940559.apps.googleusercontent.com&redirect_uri=http%3A%2F%2Flocalhost%3A8085%2F&scope=openid+https%3A%2F%2Fwww.googleapis.com%2Fauth%2Fuserinfo.email+https%3A%2F%2Fwww.googleapis.com%2Fauth%2Fcloud-platform+https%3A%2F%2Fwww.googleapis.com%2Fauth%2Fappengine.admin+https%3A%2F%2Fwww.googleapis.com%2Fauth%2Fsqlservice.login+https%3A%2F%2Fwww.googleapis.com%2Fauth%2Fcompute+https%3A%2F%2Fwww.googleapis.com%2Fauth%2Faccounts.reauth&state=W3wwDRReIP9YOSLWGr6e3MoNGY7gJ0&access_type=offline&code_challenge=jwJb82v_FHyQeb1FprYxbfjIC8_GlwHz7ZU-ebUEGyo&code_challenge_method=S256\n",
      "\n",
      "\n",
      "You are now logged in as [max.etman@student.kdg.be].\n",
      "Your current project is [automl-408813].  You can change this setting by running:\n",
      "  $ gcloud config set project PROJECT_ID\n"
     ]
    }
   ],
   "source": [
    "! gcloud auth login"
   ],
   "metadata": {
    "collapsed": false,
    "ExecuteTime": {
     "end_time": "2023-12-21T15:06:38.142330700Z",
     "start_time": "2023-12-21T15:06:29.816337800Z"
    }
   },
   "id": "831015c3e56b0920"
  },
  {
   "cell_type": "markdown",
   "source": [
    "initialise the aiplatform in our project and region"
   ],
   "metadata": {
    "collapsed": false
   },
   "id": "2acb2c8ca77e364a"
  },
  {
   "cell_type": "code",
   "execution_count": 6,
   "outputs": [],
   "source": [
    "display_name = \"gsod_unique\"\n",
    "\n",
    "aiplatform.init(project=PROJECT_ID, location=REGION)"
   ],
   "metadata": {
    "collapsed": false,
    "ExecuteTime": {
     "end_time": "2023-12-21T15:06:38.202613500Z",
     "start_time": "2023-12-21T15:06:38.173820500Z"
    }
   },
   "id": "c9bb76b749b1d327"
  },
  {
   "cell_type": "markdown",
   "source": [
    "Then we create a bigquery dataset where we will store our table of data"
   ],
   "metadata": {
    "collapsed": false
   },
   "id": "54051ab141f71734"
  },
  {
   "cell_type": "code",
   "execution_count": 7,
   "outputs": [],
   "source": [
    "from google.cloud import bigquery\n",
    "\n",
    "# Replace with your project, dataset, and table names\n",
    "dataset_id = \"dai56_automl_v1\"\n",
    "table_id = \"spotify_tracks_dai56_automl_v1\"\n",
    "\n",
    "def create_dataset(project_id, dataset_id):\n",
    "    client = bigquery.Client(project=project_id, location=REGION)\n",
    "    dataset_ref = client.dataset(dataset_id)\n",
    "\n",
    "    dataset = bigquery.Dataset(dataset_ref)\n",
    "    dataset = client.create_dataset(dataset)\n",
    "    print(f\"Dataset {dataset.dataset_id} created.\")\n",
    "\n",
    "def create_table(project_id, dataset_id, table_id, schema):\n",
    "    client = bigquery.Client(project=project_id, location=REGION)\n",
    "    dataset_ref = client.dataset(dataset_id)\n",
    "    table_ref = dataset_ref.table(table_id)\n",
    "\n",
    "    table = bigquery.Table(table_ref, schema=schema)\n",
    "    table = client.create_table(table)\n",
    "    print(f\"Table {table.table_id} created.\")\n",
    "\n",
    "# Define the schema for your table\n",
    "schema = [\n",
    "    bigquery.SchemaField(\"popularity\", \"FLOAT\"),\n",
    "    bigquery.SchemaField(\"loudness\", \"FLOAT\"),\n",
    "    bigquery.SchemaField(\"explicit\", \"FLOAT\"),\n",
    "    bigquery.SchemaField(\"danceability\", \"FLOAT\"),\n",
    "    bigquery.SchemaField(\"time_signature\", \"FLOAT\"),\n",
    "    bigquery.SchemaField(\"tempo\", \"FLOAT\"),\n",
    "    bigquery.SchemaField(\"energy\", \"FLOAT\"),\n",
    "    bigquery.SchemaField(\"key\", \"FLOAT\"),\n",
    "    bigquery.SchemaField(\"liveness\", \"FLOAT\"),\n",
    "    bigquery.SchemaField(\"duration_ms\", \"FLOAT\"),\n",
    "    bigquery.SchemaField(\"mode\", \"FLOAT\"),\n",
    "    bigquery.SchemaField(\"acousticness\", \"FLOAT\"),\n",
    "    bigquery.SchemaField(\"valence\", \"FLOAT\"),\n",
    "    bigquery.SchemaField(\"speechiness\", \"FLOAT\"),\n",
    "    bigquery.SchemaField(\"instrumentalness\", \"FLOAT\"),\n",
    "]\n",
    "\n",
    "# Create dataset (uncomment the line below if you want to create the dataset as well)\n",
    "create_dataset(PROJECT_ID, dataset_id)\n",
    "\n",
    "# Create table\n",
    "create_table(PROJECT_ID, dataset_id, table_id, schema)\n",
    "\n",
    "client = bigquery.Client(project=PROJECT_ID)\n",
    "dataset_ref = client.dataset(dataset_id)\n",
    "table_ref = dataset_ref.table(table_id)\n",
    "\n",
    "job_config = bigquery.LoadJobConfig()\n",
    "job_config.source_format = bigquery.SourceFormat.CSV\n",
    "job_config.skip_leading_rows = 1  # Skip header row if present\n",
    "\n",
    "with open(\"processed_dataset.csv\", \"rb\") as source_file:\n",
    "    job = client.load_table_from_file(source_file, table_ref, job_config=job_config)\n",
    "\n",
    "job.result()  # Wait for the job to complete"
   ],
   "metadata": {
    "collapsed": false,
    "ExecuteTime": {
     "end_time": "2023-12-21T15:06:38.215812500Z",
     "start_time": "2023-12-21T15:06:38.190473300Z"
    }
   },
   "id": "63a4d77f97dd7f28"
  },
  {
   "cell_type": "markdown",
   "source": [
    "Here we create the TabularDataset on the aiplatform from the BigQuery table"
   ],
   "metadata": {
    "collapsed": false
   },
   "id": "a61f02c2ca81d563"
  },
  {
   "cell_type": "code",
   "execution_count": 9,
   "outputs": [
    {
     "name": "stdout",
     "output_type": "stream",
     "text": [
      "Creating TabularDataset\n",
      "Create TabularDataset backing LRO: projects/999338700669/locations/europe-west1/datasets/2005491616877379584/operations/8966005501850550272\n",
      "TabularDataset created. Resource name: projects/999338700669/locations/europe-west1/datasets/2005491616877379584\n",
      "To use this TabularDataset in another session:\n",
      "ds = aiplatform.TabularDataset('projects/999338700669/locations/europe-west1/datasets/2005491616877379584')\n",
      "projects/999338700669/locations/europe-west1/datasets/2005491616877379584\n"
     ]
    }
   ],
   "source": [
    "import pandas as pd\n",
    "df = pd.read_csv('processed_dataset.csv')\n",
    "dataset_id = \"dai56_automl_v1\"\n",
    "table_id = \"spotify_tracks_dai56_automl_v1\"\n",
    "\n",
    "dataset = aiplatform.TabularDataset.create_from_dataframe(\n",
    "    display_name=\"NOAA historical weather data_unique\",\n",
    "    staging_path=f\"bq://{PROJECT_ID}.{dataset_id}.{table_id}\",\n",
    "    df_source=df,\n",
    ")\n",
    "\n",
    "\n",
    "print(dataset.resource_name)"
   ],
   "metadata": {
    "collapsed": false,
    "ExecuteTime": {
     "end_time": "2023-12-21T15:09:32.086140600Z",
     "start_time": "2023-12-21T15:09:22.021713Z"
    }
   },
   "id": "ac1ad59d1dd3519e"
  },
  {
   "cell_type": "markdown",
   "source": [
    "Now we create the training job of the AutoMl Tabular Learner"
   ],
   "metadata": {
    "collapsed": false
   },
   "id": "c5fba9e5a2185b9c"
  },
  {
   "cell_type": "code",
   "execution_count": 14,
   "outputs": [
    {
     "name": "stdout",
     "output_type": "stream",
     "text": [
      "<google.cloud.aiplatform.training_jobs.AutoMLTabularTrainingJob object at 0x0000027BBA894340>\n"
     ]
    }
   ],
   "source": [
    "# ds = aiplatform.TabularDataset('projects/999338700669/locations/europe-west1/datasets/7927725126869581824')\n",
    "TRANSFORMATIONS = [\n",
    "    {\"auto\": {\"column_name\": \"instrumentalness\"}},\n",
    "    {\"auto\": {\"column_name\": \"loudness\"}},\n",
    "    {\"auto\": {\"column_name\": \"valence\"}},\n",
    "     {\"auto\": {\"column_name\": \"time_signature\"}},\n",
    "]\n",
    "label_column = \"danceability\"\n",
    "\n",
    "job = aiplatform.AutoMLTabularTrainingJob(\n",
    "    display_name=display_name,\n",
    "    optimization_prediction_type=\"regression\",\n",
    "    optimization_objective=\"minimize-rmse\",\n",
    "    column_transformations=TRANSFORMATIONS,\n",
    ")\n",
    "\n",
    "print(job)"
   ],
   "metadata": {
    "collapsed": false,
    "ExecuteTime": {
     "end_time": "2023-12-21T17:29:48.405167600Z",
     "start_time": "2023-12-21T17:29:48.379540600Z"
    }
   },
   "id": "4c75ae90b09c67cb"
  },
  {
   "cell_type": "markdown",
   "source": [
    "This is where we train the model, it takes about 2 hours to do its job. the reason we took 1 node hour (=1000 milli node hours) is because that is when the model starts improving at a rate that is so slow it makes it almost irrelevant. you can lower it for testing purposes but then the model will be less accurate"
   ],
   "metadata": {
    "collapsed": false
   },
   "id": "fdcbf5668e62bfa0"
  },
  {
   "cell_type": "code",
   "execution_count": 15,
   "outputs": [
    {
     "name": "stdout",
     "output_type": "stream",
     "text": [
      "View Training:\n",
      "https://console.cloud.google.com/ai/platform/locations/europe-west1/training/6686081967433187328?project=999338700669\n",
      "AutoMLTabularTrainingJob projects/999338700669/locations/europe-west1/trainingPipelines/6686081967433187328 current state:\n",
      "PipelineState.PIPELINE_STATE_RUNNING\n",
      "AutoMLTabularTrainingJob projects/999338700669/locations/europe-west1/trainingPipelines/6686081967433187328 current state:\n",
      "PipelineState.PIPELINE_STATE_RUNNING\n",
      "AutoMLTabularTrainingJob projects/999338700669/locations/europe-west1/trainingPipelines/6686081967433187328 current state:\n",
      "PipelineState.PIPELINE_STATE_RUNNING\n",
      "AutoMLTabularTrainingJob projects/999338700669/locations/europe-west1/trainingPipelines/6686081967433187328 current state:\n",
      "PipelineState.PIPELINE_STATE_RUNNING\n",
      "AutoMLTabularTrainingJob projects/999338700669/locations/europe-west1/trainingPipelines/6686081967433187328 current state:\n",
      "PipelineState.PIPELINE_STATE_RUNNING\n",
      "AutoMLTabularTrainingJob projects/999338700669/locations/europe-west1/trainingPipelines/6686081967433187328 current state:\n",
      "PipelineState.PIPELINE_STATE_RUNNING\n",
      "AutoMLTabularTrainingJob projects/999338700669/locations/europe-west1/trainingPipelines/6686081967433187328 current state:\n",
      "PipelineState.PIPELINE_STATE_RUNNING\n",
      "AutoMLTabularTrainingJob projects/999338700669/locations/europe-west1/trainingPipelines/6686081967433187328 current state:\n",
      "PipelineState.PIPELINE_STATE_RUNNING\n",
      "AutoMLTabularTrainingJob projects/999338700669/locations/europe-west1/trainingPipelines/6686081967433187328 current state:\n",
      "PipelineState.PIPELINE_STATE_RUNNING\n",
      "AutoMLTabularTrainingJob projects/999338700669/locations/europe-west1/trainingPipelines/6686081967433187328 current state:\n",
      "PipelineState.PIPELINE_STATE_RUNNING\n",
      "AutoMLTabularTrainingJob projects/999338700669/locations/europe-west1/trainingPipelines/6686081967433187328 current state:\n",
      "PipelineState.PIPELINE_STATE_RUNNING\n",
      "AutoMLTabularTrainingJob projects/999338700669/locations/europe-west1/trainingPipelines/6686081967433187328 current state:\n",
      "PipelineState.PIPELINE_STATE_RUNNING\n",
      "AutoMLTabularTrainingJob projects/999338700669/locations/europe-west1/trainingPipelines/6686081967433187328 current state:\n",
      "PipelineState.PIPELINE_STATE_RUNNING\n",
      "AutoMLTabularTrainingJob projects/999338700669/locations/europe-west1/trainingPipelines/6686081967433187328 current state:\n",
      "PipelineState.PIPELINE_STATE_RUNNING\n",
      "AutoMLTabularTrainingJob projects/999338700669/locations/europe-west1/trainingPipelines/6686081967433187328 current state:\n",
      "PipelineState.PIPELINE_STATE_RUNNING\n",
      "AutoMLTabularTrainingJob projects/999338700669/locations/europe-west1/trainingPipelines/6686081967433187328 current state:\n",
      "PipelineState.PIPELINE_STATE_RUNNING\n",
      "AutoMLTabularTrainingJob projects/999338700669/locations/europe-west1/trainingPipelines/6686081967433187328 current state:\n",
      "PipelineState.PIPELINE_STATE_RUNNING\n",
      "AutoMLTabularTrainingJob projects/999338700669/locations/europe-west1/trainingPipelines/6686081967433187328 current state:\n",
      "PipelineState.PIPELINE_STATE_RUNNING\n",
      "AutoMLTabularTrainingJob projects/999338700669/locations/europe-west1/trainingPipelines/6686081967433187328 current state:\n",
      "PipelineState.PIPELINE_STATE_RUNNING\n",
      "AutoMLTabularTrainingJob projects/999338700669/locations/europe-west1/trainingPipelines/6686081967433187328 current state:\n",
      "PipelineState.PIPELINE_STATE_RUNNING\n",
      "AutoMLTabularTrainingJob projects/999338700669/locations/europe-west1/trainingPipelines/6686081967433187328 current state:\n",
      "PipelineState.PIPELINE_STATE_RUNNING\n",
      "AutoMLTabularTrainingJob projects/999338700669/locations/europe-west1/trainingPipelines/6686081967433187328 current state:\n",
      "PipelineState.PIPELINE_STATE_RUNNING\n",
      "AutoMLTabularTrainingJob projects/999338700669/locations/europe-west1/trainingPipelines/6686081967433187328 current state:\n",
      "PipelineState.PIPELINE_STATE_RUNNING\n",
      "AutoMLTabularTrainingJob projects/999338700669/locations/europe-west1/trainingPipelines/6686081967433187328 current state:\n",
      "PipelineState.PIPELINE_STATE_RUNNING\n",
      "AutoMLTabularTrainingJob projects/999338700669/locations/europe-west1/trainingPipelines/6686081967433187328 current state:\n",
      "PipelineState.PIPELINE_STATE_RUNNING\n",
      "AutoMLTabularTrainingJob projects/999338700669/locations/europe-west1/trainingPipelines/6686081967433187328 current state:\n",
      "PipelineState.PIPELINE_STATE_RUNNING\n",
      "AutoMLTabularTrainingJob projects/999338700669/locations/europe-west1/trainingPipelines/6686081967433187328 current state:\n",
      "PipelineState.PIPELINE_STATE_RUNNING\n",
      "AutoMLTabularTrainingJob run completed. Resource name: projects/999338700669/locations/europe-west1/trainingPipelines/6686081967433187328\n",
      "Model available at projects/999338700669/locations/europe-west1/models/6610008819491667968\n"
     ]
    }
   ],
   "source": [
    "model = job.run(\n",
    "    dataset=dataset,\n",
    "    model_display_name=display_name,\n",
    "    training_fraction_split=0.6,\n",
    "    validation_fraction_split=0.2,\n",
    "    test_fraction_split=0.2,\n",
    "    budget_milli_node_hours=1000,\n",
    "    disable_early_stopping=False,\n",
    "    target_column=label_column,\n",
    ")"
   ],
   "metadata": {
    "collapsed": false,
    "ExecuteTime": {
     "end_time": "2023-12-21T19:25:28.989803700Z",
     "start_time": "2023-12-21T17:29:50.740052300Z"
    }
   },
   "id": "4321ea7f30ab2418"
  },
  {
   "cell_type": "markdown",
   "source": [
    "Now we fetch the model evaluations and print them out, we can see that it is less effective than our local model by a fairly big margin. Although the upside is that all we had to do was provide the data"
   ],
   "metadata": {
    "collapsed": false
   },
   "id": "f41224e3b86f7211"
  },
  {
   "cell_type": "code",
   "execution_count": 16,
   "outputs": [
    {
     "name": "stdout",
     "output_type": "stream",
     "text": [
      "{'rootMeanSquaredError': 0.14260665, 'meanAbsoluteError': 0.11392803, 'meanAbsolutePercentageError': 14580.551, 'rSquared': 0.34267348, 'rootMeanSquaredLogError': 0.0927907}\n"
     ]
    }
   ],
   "source": [
    "model_evaluations = model.list_model_evaluations()\n",
    "if len(model_evaluations) > 0:\n",
    "    eval_res = model_evaluations[0].to_dict()\n",
    "    evaluation_metrics = eval_res[\"metrics\"]\n",
    "    print(evaluation_metrics)"
   ],
   "metadata": {
    "collapsed": false,
    "ExecuteTime": {
     "end_time": "2023-12-21T20:17:08.056553600Z",
     "start_time": "2023-12-21T20:17:07.690774500Z"
    }
   },
   "id": "e9ed8eb7b658e67b"
  },
  {
   "cell_type": "markdown",
   "source": [
    "Now we will deploy the model to an endpoint, we define the machine type here"
   ],
   "metadata": {
    "collapsed": false
   },
   "id": "9d7e1ddee6663c39"
  },
  {
   "cell_type": "code",
   "execution_count": 17,
   "outputs": [
    {
     "name": "stdout",
     "output_type": "stream",
     "text": [
      "Creating Endpoint\n",
      "Create Endpoint backing LRO: projects/999338700669/locations/europe-west1/endpoints/3437328435125420032/operations/1435423974933659648\n",
      "Endpoint created. Resource name: projects/999338700669/locations/europe-west1/endpoints/3437328435125420032\n",
      "To use this Endpoint in another session:\n",
      "endpoint = aiplatform.Endpoint('projects/999338700669/locations/europe-west1/endpoints/3437328435125420032')\n",
      "Deploying model to Endpoint : projects/999338700669/locations/europe-west1/endpoints/3437328435125420032\n",
      "Deploy Endpoint model backing LRO: projects/999338700669/locations/europe-west1/endpoints/3437328435125420032/operations/5394088047392325632\n",
      "Endpoint model deployed. Resource name: projects/999338700669/locations/europe-west1/endpoints/3437328435125420032\n"
     ]
    }
   ],
   "source": [
    "endpoint = model.deploy(machine_type=\"n1-standard-4\")"
   ],
   "metadata": {
    "collapsed": false,
    "ExecuteTime": {
     "end_time": "2023-12-21T21:06:58.987090300Z",
     "start_time": "2023-12-21T20:51:15.284464300Z"
    }
   },
   "id": "3ef58f032e78b0d4"
  },
  {
   "cell_type": "markdown",
   "source": [
    "And then we test it out here by providing a single row of data and asking it to provide a prediction, the prediction is fairly accurate"
   ],
   "metadata": {
    "collapsed": false
   },
   "id": "143e0b52354df680"
  },
  {
   "cell_type": "code",
   "execution_count": 21,
   "outputs": [
    {
     "name": "stdout",
     "output_type": "stream",
     "text": [
      "Prediction(predictions=[{'value': 0.3443959355354309, 'lower_bound': 0.1398083716630936, 'upper_bound': 0.6657944917678833}], deployed_model_id='3472983398190940160', model_version_id='1', model_resource_name='projects/999338700669/locations/europe-west1/models/6610008819491667968', explanations=None)\n",
      "actual value: 0.2700507614213198\n"
     ]
    }
   ],
   "source": [
    "instances_list = [{\"instrumentalness\": 0.000707, \"loudness\": 0.5737010524758152, \"valence\": 0.1437185929648241, \"time_signature\": 3}]\n",
    "\n",
    "prediction = endpoint.predict(instances_list)\n",
    "print(prediction)\n",
    "print(f'actual value: 0.2700507614213198')"
   ],
   "metadata": {
    "collapsed": false,
    "ExecuteTime": {
     "end_time": "2023-12-21T21:09:24.497852600Z",
     "start_time": "2023-12-21T21:09:24.409178700Z"
    }
   },
   "id": "8a151ed7bbe7450a"
  },
  {
   "cell_type": "code",
   "execution_count": 1,
   "outputs": [
    {
     "data": {
      "text/plain": "Prediction(predictions=[{'value': 0.3497030436992645, 'lower_bound': 0.1352253556251526, 'upper_bound': 0.7275293469429016}], deployed_model_id='8996015022463254528', model_version_id='1', model_resource_name='projects/999338700669/locations/europe-west1/models/2298797338702905344', explanations=None)"
     },
     "execution_count": 1,
     "metadata": {},
     "output_type": "execute_result"
    }
   ],
   "source": [
    "from google.cloud import aiplatform\n",
    "\n",
    "instances_list = [{\"instrumentalness\": 0.000707, \"loudness\": 0.5737010524758152, \"valence\": 0.1437185929648241, \"time_signature\": 3}]\n",
    "\n",
    "\n",
    "endpoint_location= \"projects/999338700669/locations/europe-west1/endpoints/4367990261247115264\"\n",
    "# Make a prediction request to the endpoint\n",
    "aiplatform.Endpoint.predict(aiplatform.Endpoint(endpoint_location), instances_list)\n",
    " "
   ],
   "metadata": {
    "collapsed": false,
    "ExecuteTime": {
     "end_time": "2024-01-08T11:47:23.346634400Z",
     "start_time": "2024-01-08T11:47:11.370717300Z"
    }
   },
   "id": "d8e97f2f1a8491f1"
  }
 ],
 "metadata": {
  "kernelspec": {
   "display_name": "Python 3",
   "language": "python",
   "name": "python3"
  },
  "language_info": {
   "codemirror_mode": {
    "name": "ipython",
    "version": 2
   },
   "file_extension": ".py",
   "mimetype": "text/x-python",
   "name": "python",
   "nbconvert_exporter": "python",
   "pygments_lexer": "ipython2",
   "version": "2.7.6"
  }
 },
 "nbformat": 4,
 "nbformat_minor": 5
}
